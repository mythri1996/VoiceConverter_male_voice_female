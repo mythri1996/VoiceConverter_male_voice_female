{
  "nbformat": 4,
  "nbformat_minor": 0,
  "metadata": {
    "colab": {
      "name": "maletofemalevoiceConverter.ipynb",
      "provenance": [],
      "mount_file_id": "1ddNN9We9XN09OJvS7Q75R2-AaW94ugli",
      "authorship_tag": "ABX9TyNpodB6YPk/ytWEktUioiSH",
      "include_colab_link": true
    },
    "kernelspec": {
      "name": "python3",
      "display_name": "Python 3"
    },
    "language_info": {
      "name": "python"
    },
    "accelerator": "GPU"
  },
  "cells": [
    {
      "cell_type": "markdown",
      "metadata": {
        "id": "view-in-github",
        "colab_type": "text"
      },
      "source": [
        "<a href=\"https://colab.research.google.com/github/mythri1996/VoiceConverter_male_voice_female/blob/main/maletofemalevoiceConverter.ipynb\" target=\"_parent\"><img src=\"https://colab.research.google.com/assets/colab-badge.svg\" alt=\"Open In Colab\"/></a>"
      ]
    },
    {
      "cell_type": "code",
      "metadata": {
        "colab": {
          "base_uri": "https://localhost:8080/"
        },
        "id": "dXNFEvrwQgSJ",
        "outputId": "b98b0836-6251-472c-a4a2-e2cbe4b0765a"
      },
      "source": [
        "pip install SpeechRecognition\n"
      ],
      "execution_count": 1,
      "outputs": [
        {
          "output_type": "stream",
          "text": [
            "Collecting SpeechRecognition\n",
            "\u001b[?25l  Downloading https://files.pythonhosted.org/packages/26/e1/7f5678cd94ec1234269d23756dbdaa4c8cfaed973412f88ae8adf7893a50/SpeechRecognition-3.8.1-py2.py3-none-any.whl (32.8MB)\n",
            "\u001b[K     |████████████████████████████████| 32.8MB 83kB/s \n",
            "\u001b[?25hInstalling collected packages: SpeechRecognition\n",
            "Successfully installed SpeechRecognition-3.8.1\n"
          ],
          "name": "stdout"
        }
      ]
    },
    {
      "cell_type": "code",
      "metadata": {
        "colab": {
          "base_uri": "https://localhost:8080/"
        },
        "id": "yVYAjvN_A-nI",
        "outputId": "39fc7366-bacb-4e4e-a9e6-c807c2429d24"
      },
      "source": [
        "!sudo apt install libespeak1"
      ],
      "execution_count": 25,
      "outputs": [
        {
          "output_type": "stream",
          "text": [
            "Reading package lists... Done\n",
            "Building dependency tree       \n",
            "Reading state information... Done\n",
            "libespeak1 is already the newest version (1.48.04+dfsg-5).\n",
            "The following package was automatically installed and is no longer required:\n",
            "  libnvidia-common-460\n",
            "Use 'sudo apt autoremove' to remove it.\n",
            "0 upgraded, 0 newly installed, 0 to remove and 62 not upgraded.\n"
          ],
          "name": "stdout"
        }
      ]
    },
    {
      "cell_type": "code",
      "metadata": {
        "colab": {
          "base_uri": "https://localhost:8080/"
        },
        "id": "2tJ1QpuOS5S-",
        "outputId": "4eac76cc-2362-4325-a9df-ac8c912d188f"
      },
      "source": [
        "!pip install pyttsx"
      ],
      "execution_count": 2,
      "outputs": [
        {
          "output_type": "stream",
          "text": [
            "Collecting pyttsx\n",
            "  Downloading https://files.pythonhosted.org/packages/5b/db/45ec294a1776732b80118660ba13389f8178461273e1214d2ae604fa65a7/pyttsx-1.1.tar.gz\n",
            "Building wheels for collected packages: pyttsx\n",
            "  Building wheel for pyttsx (setup.py) ... \u001b[?25l\u001b[?25hdone\n",
            "  Created wheel for pyttsx: filename=pyttsx-1.1-cp37-none-any.whl size=22453 sha256=6a713b0f48ac8ab691331e1e513286585e60143ed39d73c9c1a9b4a85b2f07bc\n",
            "  Stored in directory: /root/.cache/pip/wheels/7a/b9/91/1069018136d3c4a514e84f7d8df512bb5a9865fac2bb701a82\n",
            "Successfully built pyttsx\n",
            "Installing collected packages: pyttsx\n",
            "Successfully installed pyttsx-1.1\n"
          ],
          "name": "stdout"
        }
      ]
    },
    {
      "cell_type": "code",
      "metadata": {
        "colab": {
          "base_uri": "https://localhost:8080/"
        },
        "id": "ElsSbmA-RmVw",
        "outputId": "41808243-fca4-4a8f-f8f7-3f0c65cfb2ca"
      },
      "source": [
        "!pip install pyttsx3\n"
      ],
      "execution_count": 3,
      "outputs": [
        {
          "output_type": "stream",
          "text": [
            "Collecting pyttsx3\n",
            "  Downloading https://files.pythonhosted.org/packages/33/9a/de4781245f5ad966646fd276259ef7cfd400ba3cf7d5db7c0d5aab310c20/pyttsx3-2.90-py3-none-any.whl\n",
            "Installing collected packages: pyttsx3\n",
            "Successfully installed pyttsx3-2.90\n"
          ],
          "name": "stdout"
        }
      ]
    },
    {
      "cell_type": "code",
      "metadata": {
        "colab": {
          "base_uri": "https://localhost:8080/"
        },
        "id": "SAbqigpERzII",
        "outputId": "d9082d71-5635-4ce1-8593-35c30dda98b6"
      },
      "source": [
        "!pip install pydub"
      ],
      "execution_count": 4,
      "outputs": [
        {
          "output_type": "stream",
          "text": [
            "Collecting pydub\n",
            "  Downloading https://files.pythonhosted.org/packages/a6/53/d78dc063216e62fc55f6b2eebb447f6a4b0a59f55c8406376f76bf959b08/pydub-0.25.1-py2.py3-none-any.whl\n",
            "Installing collected packages: pydub\n",
            "Successfully installed pydub-0.25.1\n"
          ],
          "name": "stdout"
        }
      ]
    },
    {
      "cell_type": "code",
      "metadata": {
        "id": "oJ6Ig9GSRWC_"
      },
      "source": [
        "import speech_recognition as sr\n",
        "import pyttsx3\n",
        "from pydub import AudioSegment"
      ],
      "execution_count": 5,
      "outputs": []
    },
    {
      "cell_type": "code",
      "metadata": {
        "id": "p7BB2SZ6R3g9"
      },
      "source": [
        "# Converting mp3 to wav file\n",
        "input_file = \"new.mp3\"\n",
        "output_file = \"new.wav\""
      ],
      "execution_count": 8,
      "outputs": []
    },
    {
      "cell_type": "code",
      "metadata": {
        "colab": {
          "base_uri": "https://localhost:8080/"
        },
        "id": "DJ74q13bR7_B",
        "outputId": "e8ce8f7d-e034-4a2d-9a85-b4765a2c3e51"
      },
      "source": [
        "music= AudioSegment.from_mp3(input_file)\n",
        "music.export(output_file, format=\"wav\")"
      ],
      "execution_count": 9,
      "outputs": [
        {
          "output_type": "execute_result",
          "data": {
            "text/plain": [
              "<_io.BufferedRandom name='new.wav'>"
            ]
          },
          "metadata": {
            "tags": []
          },
          "execution_count": 9
        }
      ]
    },
    {
      "cell_type": "code",
      "metadata": {
        "colab": {
          "base_uri": "https://localhost:8080/"
        },
        "id": "ypgUuIQiR_Vu",
        "outputId": "cf842c52-42e3-40e2-e520-26f9250e945e"
      },
      "source": [
        "# Converting Audio file into text\n",
        "audioFile = \"new.wav\"\n",
        "r = sr.Recognizer()\n",
        "with sr.AudioFile(audioFile) as data:\n",
        "    audio_data = r.record(data)\n",
        "    text = r.recognize_google(audio_data)\n",
        "    print(text)\n"
      ],
      "execution_count": 10,
      "outputs": [
        {
          "output_type": "stream",
          "text": [
            "socks\n"
          ],
          "name": "stdout"
        }
      ]
    },
    {
      "cell_type": "code",
      "metadata": {
        "id": "fqMVORFAWXsv"
      },
      "source": [
        "engine= pyttsx3.init()\n"
      ],
      "execution_count": 22,
      "outputs": []
    },
    {
      "cell_type": "code",
      "metadata": {
        "colab": {
          "base_uri": "https://localhost:8080/"
        },
        "id": "QU2Lb8CnSHNt",
        "outputId": "002d0535-733f-408e-8edf-25667fc2e861"
      },
      "source": [
        "#Converting male voice into female voice\n",
        "sound=engine.getProperty(\"voices\")\n",
        "print(\"Male voice:{0}\".format(sound[0].id))\n",
        "print(\"Female voice:{0}\".format(sound[1].id))\n",
        "engine.setProperty(\"voice\", sound[1].id)\n"
      ],
      "execution_count": 23,
      "outputs": [
        {
          "output_type": "stream",
          "text": [
            "Male voice:afrikaans\n",
            "Female voice:aragonese\n"
          ],
          "name": "stdout"
        }
      ]
    },
    {
      "cell_type": "code",
      "metadata": {
        "id": "PkRfHqO4SQdv"
      },
      "source": [
        "engine.say(text)\n",
        "engine.runAndWait()"
      ],
      "execution_count": 24,
      "outputs": []
    }
  ]
}